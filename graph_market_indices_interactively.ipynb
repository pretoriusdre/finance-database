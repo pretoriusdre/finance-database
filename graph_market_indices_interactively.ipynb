{
 "cells": [
  {
   "cell_type": "code",
   "execution_count": 1,
   "id": "019e5535",
   "metadata": {},
   "outputs": [],
   "source": [
    "import yfinance as yf\n",
    "from datetime import timedelta, timezone, time, datetime, date\n",
    "import matplotlib.pyplot as plt\n",
    "import pytz\n",
    "import numpy as np\n",
    "from ipywidgets import interact, interactive, fixed, interact_manual, FloatSlider, interactive_output, Checkbox\n",
    "import ipywidgets as widgets\n",
    "from __future__ import print_function\n",
    "from IPython.display import display, clear_output\n",
    "import matplotlib.dates as mdates\n",
    "import matplotlib.ticker as ticker"
   ]
  },
  {
   "cell_type": "markdown",
   "id": "711ab5de",
   "metadata": {},
   "source": [
    "## Get data"
   ]
  },
  {
   "cell_type": "code",
   "execution_count": 2,
   "id": "8fe0b02d",
   "metadata": {},
   "outputs": [
    {
     "name": "stdout",
     "output_type": "stream",
     "text": [
      "{'maxAge': 86400, 'priceHint': 2, 'previousClose': 8541.1, 'open': 8541.1, 'dayLow': 8536.7, 'dayHigh': 8613.0, 'regularMarketPreviousClose': 8541.1, 'regularMarketOpen': 8541.1, 'regularMarketDayLow': 8536.7, 'regularMarketDayHigh': 8613.0, 'volume': 0, 'regularMarketVolume': 0, 'averageVolume': 779185, 'averageVolume10days': 762540, 'averageDailyVolume10Day': 762540, 'bid': 0.0, 'ask': 0.0, 'bidSize': 0, 'askSize': 0, 'fiftyTwoWeekLow': 7169.2, 'fiftyTwoWeekHigh': 8639.1, 'fiftyDayAverage': 8346.752, 'twoHundredDayAverage': 8239.109, 'currency': 'AUD', 'tradeable': False, '52WeekChange': 10.351551, 'quoteType': 'INDEX', 'symbol': '^AXJO', 'language': 'en-US', 'region': 'US', 'typeDisp': 'Index', 'quoteSourceName': 'Delayed Quote', 'triggerable': False, 'customPriceAlertConfidence': 'LOW', 'exchange': 'ASX', 'messageBoardId': 'finmb_INDEXAXJO', 'exchangeTimezoneName': 'Australia/Sydney', 'exchangeTimezoneShortName': 'AEST', 'gmtOffSetMilliseconds': 36000000, 'market': 'au_market', 'esgPopulated': False, 'corporateActions': [], 'regularMarketTime': 1751439824, 'shortName': 'S&P/ASX 200 [XJO]', 'longName': 'S&P/ASX 200', 'regularMarketChangePercent': 0.662685, 'regularMarketPrice': 8597.7, 'marketState': 'POSTPOST', 'cryptoTradeable': False, 'regularMarketChange': 56.600586, 'regularMarketDayRange': '8536.7 - 8613.0', 'fullExchangeName': 'ASX', 'averageDailyVolume3Month': 779185, 'fiftyTwoWeekLowChange': 1428.5, 'fiftyTwoWeekLowChangePercent': 0.19925514, 'fiftyTwoWeekRange': '7169.2 - 8639.1', 'fiftyTwoWeekHighChange': -41.399414, 'fiftyTwoWeekHighChangePercent': -0.0047920984, 'fiftyTwoWeekChangePercent': 10.351551, 'fiftyDayAverageChange': 250.94824, 'fiftyDayAverageChangePercent': 0.030065376, 'twoHundredDayAverageChange': 358.59082, 'twoHundredDayAverageChangePercent': 0.043523006, 'sourceInterval': 20, 'exchangeDataDelayedBy': 20, 'hasPrePostMarketData': False, 'firstTradeDateMilliseconds': 722473200000, 'trailingPegRatio': None}\n",
      "{'maxAge': 86400, 'priceHint': 2, 'previousClose': 6248.75, 'open': 6247.75, 'dayLow': 6235.5, 'dayHigh': 6270.75, 'regularMarketPreviousClose': 6248.75, 'regularMarketOpen': 6247.75, 'regularMarketDayLow': 6235.5, 'regularMarketDayHigh': 6270.75, 'volume': 184232, 'regularMarketVolume': 184232, 'averageVolume': 1464825, 'averageVolume10days': 1102391, 'averageDailyVolume10Day': 1102391, 'bid': 6242.25, 'ask': 6242.5, 'bidSize': 0, 'askSize': 8, 'expireDate': 1758240000, 'openInterest': 1875921, 'fiftyTwoWeekLow': 4832.0, 'fiftyTwoWeekHigh': 6270.75, 'fiftyDayAverage': 5866.9893, 'twoHundredDayAverage': 5870.41, 'currency': 'USD', 'tradeable': False, 'quoteType': 'FUTURE', 'symbol': 'ES=F', 'language': 'en-US', 'region': 'US', 'typeDisp': 'Futures', 'quoteSourceName': 'Delayed Quote', 'triggerable': False, 'customPriceAlertConfidence': 'NONE', 'contractSymbol': False, 'headSymbolAsString': 'ES=F', 'underlyingExchangeSymbol': 'ESU25.CME', 'exchange': 'CME', 'exchangeTimezoneName': 'America/New_York', 'exchangeTimezoneShortName': 'EDT', 'gmtOffSetMilliseconds': -14400000, 'market': 'us24_market', 'esgPopulated': False, 'corporateActions': [], 'regularMarketTime': 1751463202, 'underlyingSymbol': 'ESU25.CME', 'shortName': 'E-Mini S&P 500 Sep 25', 'regularMarketChangePercent': -0.0920184, 'regularMarketPrice': 6243.0, 'marketState': 'REGULAR', 'cryptoTradeable': False, 'regularMarketChange': -5.75, 'regularMarketDayRange': '6235.5 - 6270.75', 'fullExchangeName': 'CME', 'averageDailyVolume3Month': 1464825, 'fiftyTwoWeekLowChange': 1411.0, 'fiftyTwoWeekLowChangePercent': 0.2920116, 'fiftyTwoWeekRange': '4832.0 - 6270.75', 'fiftyTwoWeekHighChange': -27.75, 'fiftyTwoWeekHighChangePercent': -0.004425308, 'fiftyTwoWeekChangePercent': 11.77944, 'expireIsoDate': '2025-09-19T00:00:00Z', 'fiftyDayAverageChange': 376.01074, 'fiftyDayAverageChangePercent': 0.06408922, 'twoHundredDayAverageChange': 372.58984, 'twoHundredDayAverageChangePercent': 0.063469134, 'sourceInterval': 10, 'exchangeDataDelayedBy': 10, 'hasPrePostMarketData': False, 'firstTradeDateMilliseconds': 969249600000, 'trailingPegRatio': None}\n",
      "{'phone': '+353 1 6123226', 'companyOfficers': [], 'executiveTeam': [], 'maxAge': 86400, 'priceHint': 2, 'previousClose': 152.64, 'open': 0.0, 'dayLow': 152.36, 'dayHigh': 153.62, 'regularMarketPreviousClose': 152.64, 'regularMarketOpen': 0.0, 'regularMarketDayLow': 152.36, 'regularMarketDayHigh': 153.62, 'trailingPE': 22.188404, 'volume': 84505, 'regularMarketVolume': 84505, 'averageVolume': 118123, 'averageVolume10days': 83999, 'averageDailyVolume10Day': 83999, 'bid': 152.52, 'ask': 152.56, 'yield': 0.0, 'totalAssets': 37080571904, 'fiftyTwoWeekLow': 118.94, 'fiftyTwoWeekHigh': 161.6, 'fiftyDayAverage': 145.2464, 'twoHundredDayAverage': 141.1013, 'navPrice': 148.5393, 'currency': 'USD', 'tradeable': False, 'ytdReturn': -0.12214, 'beta3Year': 1.0, 'fundFamily': 'Vanguard Group (Ireland) Limited', 'fundInceptionDate': 1563840000, 'legalType': 'Exchange Traded Fund', 'threeYearAverageReturn': 0.133518, 'fiveYearAverageReturn': 0.1229605, 'quoteType': 'ETF', 'symbol': 'VWRA.L', 'language': 'en-US', 'region': 'US', 'typeDisp': 'ETF', 'quoteSourceName': 'Delayed Quote', 'triggerable': False, 'customPriceAlertConfidence': 'LOW', 'exchange': 'LSE', 'messageBoardId': 'finmb_215299893', 'exchangeTimezoneName': 'Europe/London', 'exchangeTimezoneShortName': 'BST', 'gmtOffSetMilliseconds': 3600000, 'market': 'gb_market', 'esgPopulated': False, 'corporateActions': [], 'regularMarketTime': 1751462888, 'shortName': 'VANGUARD FUNDS PLC VANGUARD FTS', 'longName': 'Vanguard FTSE All-World UCITS ETF', 'regularMarketChangePercent': -0.026201053, 'regularMarketPrice': 152.6, 'marketState': 'REGULAR', 'cryptoTradeable': False, 'regularMarketChange': -0.039993286, 'regularMarketDayRange': '152.36 - 153.62', 'fullExchangeName': 'LSE', 'averageDailyVolume3Month': 118123, 'fiftyTwoWeekLowChange': 33.660004, 'fiftyTwoWeekLowChangePercent': 0.28299984, 'fiftyTwoWeekRange': '118.94 - 161.6', 'fiftyTwoWeekHighChange': -9.0, 'fiftyTwoWeekHighChangePercent': -0.055693068, 'fiftyTwoWeekChangePercent': 14.76692, 'dividendYield': 0.0, 'trailingThreeMonthReturns': -3.33686, 'trailingThreeMonthNavReturns': -3.33686, 'netAssets': 37080572000.0, 'epsTrailingTwelveMonths': 6.8774667, 'fiftyDayAverageChange': 7.353607, 'fiftyDayAverageChangePercent': 0.0506285, 'twoHundredDayAverageChange': 11.498703, 'twoHundredDayAverageChangePercent': 0.081492536, 'sourceInterval': 15, 'exchangeDataDelayedBy': 15, 'hasPrePostMarketData': False, 'firstTradeDateMilliseconds': 1563865200000, 'trailingPegRatio': None}\n",
      "{'maxAge': 86400, 'priceHint': 2, 'previousClose': 6198.01, 'open': 6193.88, 'dayLow': 6188.29, 'dayHigh': 6196.92, 'regularMarketPreviousClose': 6198.01, 'regularMarketOpen': 6193.88, 'regularMarketDayLow': 6188.29, 'regularMarketDayHigh': 6196.92, 'volume': 250026131, 'regularMarketVolume': 250026131, 'averageVolume': 5382556065, 'averageVolume10days': 5898117000, 'averageDailyVolume10Day': 5898117000, 'bid': 6191.84, 'ask': 6199.51, 'bidSize': 0, 'askSize': 0, 'fiftyTwoWeekLow': 4835.04, 'fiftyTwoWeekHigh': 6215.08, 'fiftyDayAverage': 5846.336, 'twoHundredDayAverage': 5836.346, 'currency': 'USD', 'tradeable': False, '52WeekChange': 11.9376545, 'quoteType': 'INDEX', 'symbol': '^GSPC', 'language': 'en-US', 'region': 'US', 'typeDisp': 'Index', 'quoteSourceName': 'Free Realtime Quote', 'triggerable': True, 'customPriceAlertConfidence': 'HIGH', 'exchange': 'SNP', 'messageBoardId': 'finmb_INDEXGSPC', 'exchangeTimezoneName': 'America/New_York', 'exchangeTimezoneShortName': 'EDT', 'gmtOffSetMilliseconds': -14400000, 'market': 'us_market', 'esgPopulated': False, 'corporateActions': [], 'regularMarketTime': 1751463802, 'shortName': 'S&P 500', 'longName': 'S&P 500', 'regularMarketChangePercent': -0.04452693, 'regularMarketPrice': 6195.25, 'marketState': 'REGULAR', 'cryptoTradeable': False, 'regularMarketChange': -2.7597656, 'regularMarketDayRange': '6188.29 - 6196.92', 'fullExchangeName': 'SNP', 'averageDailyVolume3Month': 5382556065, 'fiftyTwoWeekLowChange': 1360.21, 'fiftyTwoWeekLowChangePercent': 0.2813234, 'fiftyTwoWeekRange': '4835.04 - 6215.08', 'fiftyTwoWeekHighChange': -19.830078, 'fiftyTwoWeekHighChangePercent': -0.0031906392, 'fiftyTwoWeekChangePercent': 11.9376545, 'fiftyDayAverageChange': 348.91406, 'fiftyDayAverageChangePercent': 0.05968081, 'twoHundredDayAverageChange': 358.9038, 'twoHundredDayAverageChangePercent': 0.061494607, 'sourceInterval': 15, 'exchangeDataDelayedBy': 0, 'hasPrePostMarketData': False, 'firstTradeDateMilliseconds': -1325583000000, 'trailingPegRatio': None}\n"
     ]
    }
   ],
   "source": [
    "indices =  ['^AXJO','ES=F', 'VWRA.L', '^GSPC']\n",
    "\n",
    "\n",
    "#indices =  ['ES=F', 'VWRA.L']\n",
    "\n",
    "\n",
    "banks = ['CBA.AX', 'WBC.AX', 'ANZ.AX', 'NAB.AX']\n",
    "\n",
    "ticker_code_list = indices\n",
    "         \n",
    "ticker_data = []\n",
    "for ticker_code in ticker_code_list:\n",
    "    ticker_obj = yf.Ticker(ticker_code)\n",
    "    ticker_info = ticker_obj.info\n",
    "    print(ticker_info)\n",
    "    ticker_short_name = ticker_info.get('shortName', f'{ticker_code}')\n",
    "    ticker_history = ticker_obj.history(period='14d',interval='15m')\n",
    "    ticker_history_close = ticker_history['Close']\n",
    "    \n",
    "    ticker_history_close_normalised = ticker_history_close / ticker_history_close.mean()\n",
    "    \n",
    "    for i in range(len(ticker_history_close_normalised) - 1):\n",
    "        if ticker_history_close_normalised.index[i + 1] - ticker_history_close_normalised.index[i] > timedelta(hours=2):\n",
    "            ticker_history_close_normalised.loc[ticker_history_close_normalised.index[i + 1]] = None\n",
    "    \n",
    "        ticker_data_dict = {'Code': ticker_code,\n",
    "                            'Name': ticker_short_name,\n",
    "                            'Close': ticker_history_close,\n",
    "                            'Close normalised': ticker_history_close_normalised\n",
    "        }\n",
    "    ticker_data.append((ticker_data_dict))\n"
   ]
  },
  {
   "cell_type": "markdown",
   "id": "85075cad",
   "metadata": {
    "tags": []
   },
   "source": [
    "## Plot data"
   ]
  },
  {
   "cell_type": "code",
   "execution_count": 3,
   "id": "94149cf0",
   "metadata": {},
   "outputs": [
    {
     "name": "stdout",
     "output_type": "stream",
     "text": [
      "Range: 5 days, 0:00:00\n",
      "Pan: 0:00:00\n"
     ]
    },
    {
     "data": {
      "application/vnd.jupyter.widget-view+json": {
       "model_id": "0396f2bb559a46e1967d7cc6f5470fc5",
       "version_major": 2,
       "version_minor": 0
      },
      "text/plain": [
       "interactive(children=(FloatSlider(value=1.0, description='zoom', max=5.0, min=1.0, step=0.0005), FloatSlider(v…"
      ]
     },
     "metadata": {},
     "output_type": "display_data"
    }
   ],
   "source": [
    "exchange_tz = pytz.timezone('Australia/Sydney')\n",
    "exchange_open_local = time(hour=10, minute=0, second=0)\n",
    "exchange_close_local = time(hour=16, minute=0, second=0)\n",
    "exchange_open_tz = exchange_tz.localize(datetime.combine(date.today(), exchange_open_local))\n",
    "exchange_close_tz = exchange_tz.localize(datetime.combine(date.today(), exchange_close_local))\n",
    "\n",
    "days = mdates.DayLocator()  # every day\n",
    "daysFmt = mdates.DateFormatter('%a, %d-%m')\n",
    "ticks = [mdates.date2num(date.today())]\n",
    "\n",
    "fig, ax = plt.subplots(figsize=(19.2,10.8))\n",
    "plt.close()\n",
    "line_list = {}\n",
    "\n",
    "for dataset in ticker_data:\n",
    "    line_list[dataset['Name']] = ax.plot(dataset['Close normalised'].index,\n",
    "                                         dataset['Close normalised'],\n",
    "                                        label = dataset['Name'])\n",
    "              \n",
    "zoom = 1\n",
    "pan = 0\n",
    "        \n",
    "now = datetime.now(timezone.utc)\n",
    "time_range = timedelta(days = 5)\n",
    "time_range_zoomed = time_range / zoom\n",
    "margin = timedelta(hours = 4) / zoom\n",
    "high = now + margin\n",
    "low = now - time_range_zoomed - margin\n",
    "offset = time_range * pan\n",
    "high_set = high - offset\n",
    "low_set = low - offset\n",
    "print('Range: ' + str(time_range))\n",
    "print('Pan: ' + str(offset))\n",
    "ax.set_xlim (low_set, high_set)\n",
    "ax.set_title('World indices')             \n",
    "\n",
    "#Add on x axis date ticks\n",
    "ax.xaxis.set_major_locator(days)\n",
    "ax.xaxis.set_major_formatter(daysFmt)\n",
    "ax.xaxis_date(tz=None)\n",
    "ax.grid(visible=True, which='major', axis='both')\n",
    "ax.legend(loc='upper right')\n",
    "\n",
    "\n",
    "\n",
    "for days_offset in range(16):\n",
    "    start_time = exchange_open_tz - timedelta(days=days_offset)\n",
    "    end_time = exchange_close_tz - timedelta(days=days_offset)\n",
    "    is_weekend = start_time.weekday() >= 5\n",
    "\n",
    "    # blacken the nights\n",
    "    ax.axvspan(end_time, start_time + timedelta(days=1), facecolor=(0.98, 0.98, 0.98))\n",
    "    if is_weekend:\n",
    "         ax.axvspan(start_time, end_time, facecolor=(0.95, 0.95, 0.95))\n",
    "\n",
    "shift_factor_dict = {}\n",
    "enabled_dict = {}\n",
    "for dataset in ticker_data:\n",
    "    shift_factor_dict[dataset['Name']] = 1.0\n",
    "    enabled_dict[dataset['Name']] = True\n",
    "    \n",
    "    \n",
    "\n",
    "def interactive_plot(zoom, pan, **kwargs):\n",
    "    \n",
    "    \n",
    "    global time_range_zoomed\n",
    "    global margin\n",
    "    global ax\n",
    "    global fig\n",
    "    global now\n",
    "    global time_range\n",
    "    global high\n",
    "    \n",
    "    shift_factors = []\n",
    "    enabled_flags = []\n",
    "    for key, val in kwargs.items():\n",
    "        if key.startswith('Enable'):\n",
    "            enabled_flags.append(val)\n",
    "        if key.startswith('Adjust'):\n",
    "            shift_factors.append(val)\n",
    "\n",
    "    time_range_zoomed = time_range / zoom\n",
    "    margin = timedelta(hours = 4) / zoom\n",
    "    low = now - time_range_zoomed - margin\n",
    "    offset = time_range * pan\n",
    "    high_set = high - offset\n",
    "    low_set = low - offset\n",
    "    ax.set_xlim (low_set, high_set)\n",
    "    \n",
    "    \n",
    "    for dataset, shift_factor, enabled_flag in zip(ticker_data, shift_factors, enabled_flags):\n",
    "        line = line_list[dataset['Name']][0]\n",
    "        # line.set_xdata(dataset['Close normalised'].index)\n",
    "        if enabled_flag:\n",
    "            if shift_factor != shift_factor_dict[dataset['Name']] or enabled_flag != enabled_dict[dataset['Name']]:\n",
    "                line.set_ydata(dataset['Close normalised'] * shift_factor)\n",
    "                shift_factor_dict[dataset['Name']] = shift_factor\n",
    "        else:\n",
    "            line.set_ydata(None)\n",
    "            \n",
    "        enabled_dict[dataset['Name']] = enabled_flag\n",
    "    \n",
    "    return fig\n",
    "\n",
    "\n",
    "keywords = {'zoom' : FloatSlider(min=1, max=5, step=0.0005, value=1),\n",
    "            'pan': FloatSlider(min=0, max=1, step=0.001, value=0)}\n",
    "\n",
    "widget_list = []\n",
    "for ticker in ticker_data:\n",
    "    keywords['Enable: ' + ticker['Code']] = Checkbox(True)\n",
    "    keywords['Adjust: ' + ticker['Code']] = FloatSlider(min=0.98, max=1.02, step=0.0001, value=1)\n",
    "    widget_list.append(keywords['Enable: ' + ticker['Code']])\n",
    "    widget_list.append(keywords['Adjust: ' + ticker['Code']])\n",
    "    widget_list.append(keywords['zoom'])\n",
    "    widget_list.append(keywords['pan'])\n",
    "\n",
    "\n",
    "_ = interact(interactive_plot, **keywords)\n",
    "\n"
   ]
  }
 ],
 "metadata": {
  "kernelspec": {
   "display_name": ".venv",
   "language": "python",
   "name": "python3"
  },
  "language_info": {
   "codemirror_mode": {
    "name": "ipython",
    "version": 3
   },
   "file_extension": ".py",
   "mimetype": "text/x-python",
   "name": "python",
   "nbconvert_exporter": "python",
   "pygments_lexer": "ipython3",
   "version": "3.13.3"
  }
 },
 "nbformat": 4,
 "nbformat_minor": 5
}
