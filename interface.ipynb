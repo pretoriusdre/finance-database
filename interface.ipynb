{
 "cells": [
  {
   "cell_type": "code",
   "execution_count": 1,
   "id": "eba10eb8-2dee-473e-a2ec-ab204da8ceab",
   "metadata": {},
   "outputs": [],
   "source": [
    "import sys\n",
    "import yfinance as yf\n",
    "from pathlib import Path\n",
    "\n",
    "sys.path.append('finance_database')\n",
    "from finance_database import finance_database"
   ]
  },
  {
   "cell_type": "code",
   "execution_count": null,
   "id": "df827293-71a8-440a-82fb-c5528b99aa82",
   "metadata": {},
   "outputs": [],
   "source": [
    "finance_database.main()"
   ]
  },
  {
   "cell_type": "code",
   "execution_count": 23,
   "id": "a2eef43f",
   "metadata": {},
   "outputs": [],
   "source": [
    "yfinance_obj = yf.Ticker('VGS.AX')"
   ]
  },
  {
   "cell_type": "code",
   "execution_count": null,
   "id": "0f1e1557",
   "metadata": {},
   "outputs": [],
   "source": [
    "yfinance_obj.history()"
   ]
  }
 ],
 "metadata": {
  "kernelspec": {
   "display_name": "Python 3 (ipykernel)",
   "language": "python",
   "name": "python3"
  },
  "language_info": {
   "codemirror_mode": {
    "name": "ipython",
    "version": 3
   },
   "file_extension": ".py",
   "mimetype": "text/x-python",
   "name": "python",
   "nbconvert_exporter": "python",
   "pygments_lexer": "ipython3",
   "version": "3.12.6"
  },
  "vscode": {
   "interpreter": {
    "hash": "cc8e5058f68ae25fd0b682edbcb4bd875f373e41e844c915b7302617da639678"
   }
  }
 },
 "nbformat": 4,
 "nbformat_minor": 5
}
