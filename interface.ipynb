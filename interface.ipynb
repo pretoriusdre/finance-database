{
 "cells": [
  {
   "cell_type": "code",
   "execution_count": 1,
   "id": "eba10eb8-2dee-473e-a2ec-ab204da8ceab",
   "metadata": {},
   "outputs": [],
   "source": [
    "import main"
   ]
  },
  {
   "cell_type": "code",
   "execution_count": 2,
   "id": "df827293-71a8-440a-82fb-c5528b99aa82",
   "metadata": {},
   "outputs": [
    {
     "name": "stdin",
     "output_type": "stream",
     "text": [
      "Type Y to download all company data\n",
      " y\n"
     ]
    },
    {
     "name": "stdout",
     "output_type": "stream",
     "text": [
      "Starting on AFI.AX\n",
      "    - Database was read ok. Next date to download is  2023-02-25\n",
      "    - 5 history days retrieved\n",
      "Starting on CKF.AX\n",
      "    - Database was read ok. Next date to download is  2023-02-25\n",
      "    - 5 history days retrieved\n",
      "Starting on COH.AX\n",
      "    - Database was read ok. Next date to download is  2023-02-25\n",
      "    - 5 history days retrieved\n",
      "Starting on CTD.AX\n",
      "    - Database was read ok. Next date to download is  2023-02-25\n",
      "    - 5 history days retrieved\n",
      "Starting on HPI.AX\n",
      "    - Database was read ok. Next date to download is  2023-02-25\n",
      "    - 5 history days retrieved\n",
      "Starting on NDQ.AX\n",
      "    - Database was read ok. Next date to download is  2023-02-25\n",
      "    - 5 history days retrieved\n",
      "Starting on RHC.AX\n",
      "    - Database was read ok. Next date to download is  2023-02-25\n",
      "    - 6 history days retrieved\n",
      "Starting on RMD.AX\n",
      "    - Database was read ok. Next date to download is  2023-02-25\n",
      "    - 5 history days retrieved\n",
      "Starting on SHV.AX\n",
      "    - Database was read ok. Next date to download is  2023-02-25\n",
      "    - 5 history days retrieved\n",
      "Starting on SOL.AX\n",
      "    - Database was read ok. Next date to download is  2023-02-25\n",
      "    - 5 history days retrieved\n",
      "Starting on VAE.AX\n",
      "    - Database was read ok. Next date to download is  2023-02-25\n",
      "    - 5 history days retrieved\n",
      "Starting on VAS.AX\n",
      "    - Database was read ok. Next date to download is  2023-02-25\n",
      "    - 5 history days retrieved\n",
      "Starting on VDHG.AX\n",
      "    - Database was read ok. Next date to download is  2023-02-25\n",
      "    - 5 history days retrieved\n",
      "Starting on VGS.AX\n",
      "    - Database was read ok. Next date to download is  2023-02-25\n",
      "    - 5 history days retrieved\n",
      "Starting on AUDUSD=X\n",
      "    - Database was read ok. Next date to download is  2023-02-26\n",
      "    - 6 history days retrieved\n",
      "Starting on VWRA.L\n",
      "    - Database was read ok. Next date to download is  2023-02-25\n",
      "    - 6 history days retrieved\n",
      "Starting on A200.AX\n",
      "    - Database was read ok. Next date to download is  2023-02-25\n",
      "    - 5 history days retrieved\n",
      "Total of 88 history days retrieved across 17 codes\n"
     ]
    },
    {
     "name": "stdin",
     "output_type": "stream",
     "text": [
      "Type Y to commit the data to the local database\n",
      " y\n"
     ]
    },
    {
     "name": "stdout",
     "output_type": "stream",
     "text": [
      "    - 88 records saved to table price_history\n",
      "    - 17 records saved to table current_price_only\n",
      "duplicates are:\n",
      "[('VWRA.L', '2023-02-24 00:00:00.000000', 2)]\n"
     ]
    },
    {
     "name": "stdin",
     "output_type": "stream",
     "text": [
      "Type Y to delete duplicate records\n",
      " y\n"
     ]
    },
    {
     "name": "stdout",
     "output_type": "stream",
     "text": [
      "duplicates are:\n",
      "[]\n"
     ]
    },
    {
     "name": "stdin",
     "output_type": "stream",
     "text": [
      "Type Y to export CSV files for PowerBI\n",
      " y\n"
     ]
    }
   ],
   "source": [
    "main.main()"
   ]
  },
  {
   "cell_type": "code",
   "execution_count": null,
   "id": "b16a696e-813a-4bf2-b51e-1bd7afcae4f1",
   "metadata": {},
   "outputs": [],
   "source": []
  }
 ],
 "metadata": {
  "kernelspec": {
   "display_name": "Python 3 (ipykernel)",
   "language": "python",
   "name": "python3"
  },
  "language_info": {
   "codemirror_mode": {
    "name": "ipython",
    "version": 3
   },
   "file_extension": ".py",
   "mimetype": "text/x-python",
   "name": "python",
   "nbconvert_exporter": "python",
   "pygments_lexer": "ipython3",
   "version": "3.9.7"
  },
  "vscode": {
   "interpreter": {
    "hash": "cc8e5058f68ae25fd0b682edbcb4bd875f373e41e844c915b7302617da639678"
   }
  }
 },
 "nbformat": 4,
 "nbformat_minor": 5
}
